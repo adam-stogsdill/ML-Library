{
  "nbformat": 4,
  "nbformat_minor": 0,
  "metadata": {
    "colab": {
      "name": "LinearRegressionByHand.ipynb",
      "provenance": [],
      "collapsed_sections": []
    },
    "kernelspec": {
      "name": "python3",
      "display_name": "Python 3"
    }
  },
  "cells": [
    {
      "cell_type": "code",
      "metadata": {
        "id": "hO-B2GDRbMkE",
        "colab_type": "code",
        "colab": {}
      },
      "source": [
        "import matplotlib.pyplot as plt\n",
        "import numpy as np\n",
        "import pandas as pd\n",
        "import seaborn as sn\n",
        "import sklearn as sk\n"
      ],
      "execution_count": 0,
      "outputs": []
    },
    {
      "cell_type": "code",
      "metadata": {
        "id": "29b1chpqcaZS",
        "colab_type": "code",
        "outputId": "53babd11-fcc4-460c-c4ed-83ed31932d08",
        "colab": {
          "base_uri": "https://localhost:8080/",
          "height": 34
        }
      },
      "source": [
        "# Perform Linear regression by hand\n",
        "\n",
        "x_column = pd.Series([1,2,3,4,5,6,7,8,9,10,11])\n",
        "y_column = pd.Series([1,2,3,4,5,6,7,8,9,10,11])\n",
        "\n",
        "frame_configuration = {'x' : x_column, 'y' : y_column}\n",
        "\n",
        "dataframe = pd.DataFrame(frame_configuration)\n",
        "\n",
        "dataset = dataframe.to_numpy()\n",
        "np.shape(dataset)"
      ],
      "execution_count": 0,
      "outputs": [
        {
          "output_type": "execute_result",
          "data": {
            "text/plain": [
              "(11, 2)"
            ]
          },
          "metadata": {
            "tags": []
          },
          "execution_count": 2
        }
      ]
    },
    {
      "cell_type": "code",
      "metadata": {
        "id": "ERi4Rii3dovA",
        "colab_type": "code",
        "outputId": "039ad68b-47d6-441b-aa2b-9c465092a36b",
        "colab": {
          "base_uri": "https://localhost:8080/",
          "height": 302
        }
      },
      "source": [
        "plt.plot(dataset, '.r')"
      ],
      "execution_count": 0,
      "outputs": [
        {
          "output_type": "execute_result",
          "data": {
            "text/plain": [
              "[<matplotlib.lines.Line2D at 0x7f5fa23520b8>,\n",
              " <matplotlib.lines.Line2D at 0x7f5fa2352240>]"
            ]
          },
          "metadata": {
            "tags": []
          },
          "execution_count": 3
        },
        {
          "output_type": "display_data",
          "data": {
            "image/png": "[encoded data removed]",
            "text/plain": [
              "<Figure size 432x288 with 1 Axes>"
            ]
          },
          "metadata": {
            "tags": []
          }
        }
      ]
    },
    {
      "cell_type": "code",
      "metadata": {
        "id": "iWg_QtE2d-3E",
        "colab_type": "code",
        "outputId": "113e756f-eef1-46c4-9fb5-18fe3928d4e1",
        "colab": {
          "base_uri": "https://localhost:8080/",
          "height": 319
        }
      },
      "source": [
        "weight = 0\n",
        "bias = 0\n",
        "\n",
        "def predict_output(x):\n",
        "  return weight * x + bias\n",
        "\n",
        "def train(weight, bias):\n",
        "  gradients = gradient()\n",
        "  weight = weight - .01 * gradients[0]\n",
        "  bias = bias - .01 * gradients[1]\n",
        "  return weight, bias\n",
        "\n",
        "def cost_funtion():\n",
        "  J = 0\n",
        "  for i in range(len(dataset)):\n",
        "    J = J + (predict_output(dataset[i][0]) - dataset[i][1])**2\n",
        "  return J / len(dataset)\n",
        "\n",
        "def gradient():\n",
        "  weight_gradient = 0\n",
        "  bias_gradient = 0\n",
        "  for i in range(len(dataset)):\n",
        "    weight_gradient = weight_gradient + (predict_output(dataset[i][0]) - dataset[i][1]) * dataset[i][0]\n",
        "    bias_gradient = bias_gradient + (predict_output(dataset[i][0]) - dataset[i][1])\n",
        "  return (2 * weight_gradient) / len(dataset), (2 * bias_gradient) / len(dataset)\n",
        "\n",
        "\n",
        "print('Initial Cost:', cost_funtion())\n",
        "\n",
        "while(cost_funtion() > .00000000001):\n",
        "  weight, bias = train(weight, bias)\n",
        "\n",
        "print('Weight:',weight, 'Bias:', bias, 'Squared-Error:', cost_funtion())\n",
        "\n",
        "x = np.linspace(0, 11, 100)\n",
        "y = np.add(np.dot(weight, x), bias)\n",
        "real_y = x\n",
        "\n",
        "plt.plot(x, real_y, 'b')\n",
        "plt.plot(x,y ,'r')"
      ],
      "execution_count": 0,
      "outputs": [
        {
          "output_type": "stream",
          "text": [
            "Initial Cost: 46.0\n",
            "Weight: 0.99999911217976 Bias: 6.774995025583055e-06 Squared-Error: 9.979164894667676e-12\n"
          ],
          "name": "stdout"
        },
        {
          "output_type": "execute_result",
          "data": {
            "text/plain": [
              "[<matplotlib.lines.Line2D at 0x7f5f9f941400>]"
            ]
          },
          "metadata": {
            "tags": []
          },
          "execution_count": 6
        },
        {
          "output_type": "display_data",
          "data": {
            "image/png": "[encoded data removed]",
            "text/plain": [
              "<Figure size 432x288 with 1 Axes>"
            ]
          },
          "metadata": {
            "tags": []
          }
        }
      ]
    },
    {
      "cell_type": "code",
      "metadata": {
        "id": "gERAglwEe7RG",
        "colab_type": "code",
        "colab": {}
      },
      "source": [
        ""
      ],
      "execution_count": 0,
      "outputs": []
    }
  ]
}